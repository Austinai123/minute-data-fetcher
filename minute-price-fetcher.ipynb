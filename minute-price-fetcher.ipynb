{
 "cells": [
  {
   "cell_type": "code",
   "execution_count": 2,
   "id": "aafe61e9-931a-4e23-8d67-ebab7de53a2b",
   "metadata": {},
   "outputs": [
    {
     "name": "stdout",
     "output_type": "stream",
     "text": [
      "Requirement already satisfied: ccxt in c:\\users\\wsq\\appdata\\local\\programs\\python\\python311\\lib\\site-packages (4.0.102)\n",
      "Requirement already satisfied: setuptools>=60.9.0 in c:\\users\\wsq\\appdata\\local\\programs\\python\\python311\\lib\\site-packages (from ccxt) (65.5.0)\n",
      "Requirement already satisfied: certifi>=2018.1.18 in c:\\users\\wsq\\appdata\\local\\programs\\python\\python311\\lib\\site-packages (from ccxt) (2023.7.22)\n",
      "Requirement already satisfied: requests>=2.18.4 in c:\\users\\wsq\\appdata\\local\\programs\\python\\python311\\lib\\site-packages (from ccxt) (2.31.0)\n",
      "Requirement already satisfied: cryptography>=2.6.1 in c:\\users\\wsq\\appdata\\local\\programs\\python\\python311\\lib\\site-packages (from ccxt) (41.0.4)\n",
      "Requirement already satisfied: aiohttp>=3.8 in c:\\users\\wsq\\appdata\\local\\programs\\python\\python311\\lib\\site-packages (from ccxt) (3.8.5)\n",
      "Requirement already satisfied: aiodns>=1.1.1 in c:\\users\\wsq\\appdata\\local\\programs\\python\\python311\\lib\\site-packages (from ccxt) (3.0.0)\n",
      "Requirement already satisfied: yarl>=1.7.2 in c:\\users\\wsq\\appdata\\local\\programs\\python\\python311\\lib\\site-packages (from ccxt) (1.9.2)\n",
      "Requirement already satisfied: pycares>=4.0.0 in c:\\users\\wsq\\appdata\\local\\programs\\python\\python311\\lib\\site-packages (from aiodns>=1.1.1->ccxt) (4.3.0)\n",
      "Requirement already satisfied: attrs>=17.3.0 in c:\\users\\wsq\\appdata\\local\\programs\\python\\python311\\lib\\site-packages (from aiohttp>=3.8->ccxt) (23.1.0)\n",
      "Requirement already satisfied: charset-normalizer<4.0,>=2.0 in c:\\users\\wsq\\appdata\\local\\programs\\python\\python311\\lib\\site-packages (from aiohttp>=3.8->ccxt) (3.2.0)\n",
      "Requirement already satisfied: multidict<7.0,>=4.5 in c:\\users\\wsq\\appdata\\local\\programs\\python\\python311\\lib\\site-packages (from aiohttp>=3.8->ccxt) (6.0.4)\n",
      "Requirement already satisfied: async-timeout<5.0,>=4.0.0a3 in c:\\users\\wsq\\appdata\\local\\programs\\python\\python311\\lib\\site-packages (from aiohttp>=3.8->ccxt) (4.0.3)\n",
      "Requirement already satisfied: frozenlist>=1.1.1 in c:\\users\\wsq\\appdata\\local\\programs\\python\\python311\\lib\\site-packages (from aiohttp>=3.8->ccxt) (1.4.0)\n",
      "Requirement already satisfied: aiosignal>=1.1.2 in c:\\users\\wsq\\appdata\\local\\programs\\python\\python311\\lib\\site-packages (from aiohttp>=3.8->ccxt) (1.3.1)\n",
      "Requirement already satisfied: cffi>=1.12 in c:\\users\\wsq\\appdata\\local\\programs\\python\\python311\\lib\\site-packages (from cryptography>=2.6.1->ccxt) (1.15.1)\n",
      "Requirement already satisfied: idna<4,>=2.5 in c:\\users\\wsq\\appdata\\local\\programs\\python\\python311\\lib\\site-packages (from requests>=2.18.4->ccxt) (3.4)\n",
      "Requirement already satisfied: urllib3<3,>=1.21.1 in c:\\users\\wsq\\appdata\\local\\programs\\python\\python311\\lib\\site-packages (from requests>=2.18.4->ccxt) (2.0.4)\n",
      "Requirement already satisfied: pycparser in c:\\users\\wsq\\appdata\\local\\programs\\python\\python311\\lib\\site-packages (from cffi>=1.12->cryptography>=2.6.1->ccxt) (2.21)\n"
     ]
    }
   ],
   "source": [
    "!pip install ccxt"
   ]
  },
  {
   "cell_type": "code",
   "execution_count": 3,
   "id": "0bdfe782-bfc3-4f2a-89a3-8f31038cc0b3",
   "metadata": {},
   "outputs": [
    {
     "name": "stdout",
     "output_type": "stream",
     "text": [
      "['ace', 'alpaca', 'ascendex', 'bequant', 'bigone', 'binance', 'binancecoinm', 'binanceus', 'binanceusdm', 'bingx', 'bit2c', 'bitbank', 'bitbay', 'bitbns', 'bitcoincom', 'bitfinex', 'bitfinex2', 'bitflyer', 'bitforex', 'bitget', 'bithumb', 'bitmart', 'bitmex', 'bitopro', 'bitpanda', 'bitrue', 'bitso', 'bitstamp', 'bitstamp1', 'bittrex', 'bitvavo', 'bl3p', 'blockchaincom', 'btcalpha', 'btcbox', 'btcmarkets', 'btctradeua', 'btcturk', 'bybit', 'cex', 'coinbase', 'coinbaseprime', 'coinbasepro', 'coincheck', 'coinex', 'coinfalcon', 'coinmate', 'coinone', 'coinsph', 'coinspot', 'cryptocom', 'currencycom', 'delta', 'deribit', 'digifinex', 'exmo', 'fmfwio', 'gate', 'gateio', 'gemini', 'hitbtc', 'hitbtc3', 'hollaex', 'huobi', 'huobijp', 'huobipro', 'idex', 'independentreserve', 'indodax', 'kraken', 'krakenfutures', 'kucoin', 'kucoinfutures', 'kuna', 'latoken', 'lbank', 'lbank2', 'luno', 'lykke', 'mercado', 'mexc', 'mexc3', 'ndax', 'novadax', 'oceanex', 'okcoin', 'okex', 'okex5', 'okx', 'paymium', 'phemex', 'poloniex', 'poloniexfutures', 'probit', 'tidex', 'timex', 'tokocrypto', 'upbit', 'wavesexchange', 'wazirx', 'whitebit', 'woo', 'yobit', 'zaif', 'zonda']\n"
     ]
    }
   ],
   "source": [
    "import ccxt\n",
    "print (ccxt.exchanges)"
   ]
  },
  {
   "cell_type": "code",
   "execution_count": 32,
   "id": "f431e086-f543-4a12-9954-37f8ad37cf36",
   "metadata": {},
   "outputs": [
    {
     "name": "stdout",
     "output_type": "stream",
     "text": [
      "The current price of BTC is 26564.99 USDT\n"
     ]
    }
   ],
   "source": [
    "exchange = ccxt.binance()\n",
    "ticker = exchange.fetch_ticker('BTC/USDT')\n",
    "\n",
    "current_price = ticker['ask']\n",
    "\n",
    "print(f'The current price of BTC is {current_price} USDT')"
   ]
  },
  {
   "cell_type": "code",
   "execution_count": null,
   "id": "b051083e-b835-4796-9371-d1d186dae307",
   "metadata": {},
   "outputs": [],
   "source": []
  }
 ],
 "metadata": {
  "kernelspec": {
   "display_name": "Python 3 (ipykernel)",
   "language": "python",
   "name": "python3"
  },
  "language_info": {
   "codemirror_mode": {
    "name": "ipython",
    "version": 3
   },
   "file_extension": ".py",
   "mimetype": "text/x-python",
   "name": "python",
   "nbconvert_exporter": "python",
   "pygments_lexer": "ipython3",
   "version": "3.11.5"
  }
 },
 "nbformat": 4,
 "nbformat_minor": 5
}
