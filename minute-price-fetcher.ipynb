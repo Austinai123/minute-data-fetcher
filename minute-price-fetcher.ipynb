{
 "cells": [
  {
   "cell_type": "code",
   "execution_count": null,
   "id": "aafe61e9-931a-4e23-8d67-ebab7de53a2b",
   "metadata": {},
   "outputs": [],
   "source": [
    "!pip install ccxt"
   ]
  },
  {
   "cell_type": "code",
   "execution_count": null,
   "id": "0bdfe782-bfc3-4f2a-89a3-8f31038cc0b3",
   "metadata": {},
   "outputs": [],
   "source": [
    "import ccxt\n",
    "print (ccxt.exchanges)"
   ]
  },
  {
   "cell_type": "code",
   "execution_count": 32,
   "id": "f431e086-f543-4a12-9954-37f8ad37cf36",
   "metadata": {},
   "outputs": [
    {
     "name": "stdout",
     "output_type": "stream",
     "text": [
      "The current price of BTC is 26564.99 USDT\n"
     ]
    }
   ],
   "source": [
    "exchange = ccxt.binance()\n",
    "ticker = exchange.fetch_ticker('BTC/USDT')\n",
    "\n",
    "current_price = ticker['ask']\n",
    "\n",
    "print(f'The current price of BTC is {current_price} USDT')"
   ]
  },
  {
   "cell_type": "code",
   "execution_count": null,
   "id": "b051083e-b835-4796-9371-d1d186dae307",
   "metadata": {},
   "outputs": [],
   "source": []
  }
 ],
 "metadata": {
  "kernelspec": {
   "display_name": "Python 3 (ipykernel)",
   "language": "python",
   "name": "python3"
  },
  "language_info": {
   "codemirror_mode": {
    "name": "ipython",
    "version": 3
   },
   "file_extension": ".py",
   "mimetype": "text/x-python",
   "name": "python",
   "nbconvert_exporter": "python",
   "pygments_lexer": "ipython3",
   "version": "3.11.5"
  }
 },
 "nbformat": 4,
 "nbformat_minor": 5
}
